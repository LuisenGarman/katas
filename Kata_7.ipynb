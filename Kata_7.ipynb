{
 "cells": [
  {
   "cell_type": "code",
   "execution_count": 8,
   "metadata": {},
   "outputs": [],
   "source": [
    "new_planet = ''\n",
    "planets = []"
   ]
  },
  {
   "cell_type": "code",
   "execution_count": 9,
   "metadata": {},
   "outputs": [
    {
     "name": "stdout",
     "output_type": "stream",
     "text": [
      "Please type the name of the planets you want to add to your list.\n",
      "---------------------------------------------------------------------------\n",
      "If you have finished to add planets to the list, plase type 'done' to finish \n",
      "Enter a new planet \n",
      "Enter a new planet \n",
      "Enter a new planet \n",
      "Enter a new planet \n",
      "Enter a new planet \n",
      "Enter a new planet \n",
      "The list have been updated\n"
     ]
    }
   ],
   "source": [
    "print(\"\"\"Please type the name of the planets you want to add to your list.\n",
    "---------------------------------------------------------------------------\n",
    "If you have finished to add planets to the list, plase type 'done' to finish \"\"\")\n",
    "while new_planet.lower() != 'done':\n",
    "    if new_planet:\n",
    "        planets.append(new_planet)\n",
    "    new_planet = input(print('Enter a new planet '))\n",
    "print('The list have been updated')"
   ]
  },
  {
   "cell_type": "code",
   "execution_count": 10,
   "metadata": {},
   "outputs": [
    {
     "name": "stdout",
     "output_type": "stream",
     "text": [
      "io\n",
      "earth\n",
      "mars\n",
      "neptune\n",
      "kyo\n"
     ]
    }
   ],
   "source": [
    "for planet in planets:\n",
    "    print(planet)"
   ]
  }
 ],
 "metadata": {
  "interpreter": {
   "hash": "71fb62f9abf9f45e7e86724f4c8c4aa75c29525e6b297787f80c42d444dc4b28"
  },
  "kernelspec": {
   "display_name": "Python 3.9.10 64-bit (windows store)",
   "language": "python",
   "name": "python3"
  },
  "language_info": {
   "codemirror_mode": {
    "name": "ipython",
    "version": 3
   },
   "file_extension": ".py",
   "mimetype": "text/x-python",
   "name": "python",
   "nbconvert_exporter": "python",
   "pygments_lexer": "ipython3",
   "version": "3.9.10"
  },
  "orig_nbformat": 4
 },
 "nbformat": 4,
 "nbformat_minor": 2
}
