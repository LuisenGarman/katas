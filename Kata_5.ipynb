{
 "cells": [
  {
   "cell_type": "code",
   "execution_count": 3,
   "metadata": {},
   "outputs": [],
   "source": [
    "planet1 = 149597870\n",
    "planet2 = 778547200"
   ]
  },
  {
   "cell_type": "code",
   "execution_count": 7,
   "metadata": {},
   "outputs": [
    {
     "name": "stdout",
     "output_type": "stream",
     "text": [
      "628949330 km\n",
      "390577533.93 miles\n"
     ]
    }
   ],
   "source": [
    "distancekm = abs(planet1 - planet2)\n",
    "distancemiles= distancekm * .621\n",
    "print(distancekm,'km')\n",
    "print(distancemiles,'miles')"
   ]
  },
  {
   "cell_type": "code",
   "execution_count": 14,
   "metadata": {},
   "outputs": [
    {
     "name": "stdout",
     "output_type": "stream",
     "text": [
      "Sun-Planet Calculator\n",
      "Please type the sun distance for the first planet\n",
      "Please type the sun distance for the second planet\n"
     ]
    }
   ],
   "source": [
    "print('sun-planet calculator'.title())\n",
    "displ1 = input(print('Please type the sun distance for the first planet'))\n",
    "displ2 = input(print('Please type the sun distance for the second planet'))"
   ]
  },
  {
   "cell_type": "code",
   "execution_count": 16,
   "metadata": {},
   "outputs": [],
   "source": [
    "displ1=int(displ1)\n",
    "displ2=int(displ2)"
   ]
  },
  {
   "cell_type": "code",
   "execution_count": 18,
   "metadata": {},
   "outputs": [
    {
     "name": "stdout",
     "output_type": "stream",
     "text": [
      "The sun distance for the first planet is 108200000 km\n",
      "The sun distance for the second planet is 2872500000 km\n",
      "---------------------------------------------------------------------\n",
      "The distance between the first planet and the second planet is \n",
      "2764300000 km or 1716630300.0 miles\n"
     ]
    }
   ],
   "source": [
    "dis_km=abs(displ1-displ2)\n",
    "dis_miles=dis_km*0.621\n",
    "print(\"\"\"The sun distance for the first planet is {displ1} km\n",
    "The sun distance for the second planet is {displ2} km\n",
    "---------------------------------------------------------------------\n",
    "The distance between the first planet and the second planet is \n",
    "{dis_km} km or {dis_miles} miles\"\"\".format(displ1=displ1, displ2=displ2, dis_km=dis_km, dis_miles=dis_miles))"
   ]
  }
 ],
 "metadata": {
  "interpreter": {
   "hash": "71fb62f9abf9f45e7e86724f4c8c4aa75c29525e6b297787f80c42d444dc4b28"
  },
  "kernelspec": {
   "display_name": "Python 3.9.10 64-bit (windows store)",
   "language": "python",
   "name": "python3"
  },
  "language_info": {
   "codemirror_mode": {
    "name": "ipython",
    "version": 3
   },
   "file_extension": ".py",
   "mimetype": "text/x-python",
   "name": "python",
   "nbconvert_exporter": "python",
   "pygments_lexer": "ipython3",
   "version": "3.9.10"
  },
  "orig_nbformat": 4
 },
 "nbformat": 4,
 "nbformat_minor": 2
}
