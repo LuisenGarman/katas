{
 "cells": [
  {
   "cell_type": "code",
   "execution_count": 3,
   "metadata": {},
   "outputs": [
    {
     "name": "stdout",
     "output_type": "stream",
     "text": [
      "Today's date is: 2022-02-10\n"
     ]
    }
   ],
   "source": [
    "from datetime import date\n",
    "date.today()\n",
    "print(\"Today's date is: \" +str(date.today()))"
   ]
  },
  {
   "cell_type": "code",
   "execution_count": 29,
   "metadata": {},
   "outputs": [
    {
     "name": "stdout",
     "output_type": "stream",
     "text": [
      "Parsecs to Light Years Calculator\n",
      "Your parsecs: 5\n",
      "5  parsec, is 16.3078  light years\n"
     ]
    }
   ],
   "source": [
    "print(\"Parsecs to Light Years Calculator\")\n",
    "parsecs=input(\"Type your parsecs: \")\n",
    "print(\"Your parsecs: \" +parsecs)\n",
    "lightYears=int(parsecs) * 3.26156\n",
    "print(int(parsecs) ,\" parsec, is \" + str(lightYears) ,\" light years\")"
   ]
  }
 ],
 "metadata": {
  "interpreter": {
   "hash": "71fb62f9abf9f45e7e86724f4c8c4aa75c29525e6b297787f80c42d444dc4b28"
  },
  "kernelspec": {
   "display_name": "Python 3.9.10 64-bit (windows store)",
   "language": "python",
   "name": "python3"
  },
  "language_info": {
   "codemirror_mode": {
    "name": "ipython",
    "version": 3
   },
   "file_extension": ".py",
   "mimetype": "text/x-python",
   "name": "python",
   "nbconvert_exporter": "python",
   "pygments_lexer": "ipython3",
   "version": "3.9.10"
  },
  "orig_nbformat": 4
 },
 "nbformat": 4,
 "nbformat_minor": 2
}
