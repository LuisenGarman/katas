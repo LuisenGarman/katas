{
 "cells": [
  {
   "cell_type": "code",
   "execution_count": null,
   "metadata": {},
   "outputs": [],
   "source": [
    "planet={\n",
    "    name: Mars\n",
    "    moons: 2\n",
    "\n",
    "}"
   ]
  }
 ],
 "metadata": {
  "interpreter": {
   "hash": "71fb62f9abf9f45e7e86724f4c8c4aa75c29525e6b297787f80c42d444dc4b28"
  },
  "kernelspec": {
   "display_name": "Python 3.9.10 64-bit (windows store)",
   "language": "python",
   "name": "python3"
  },
  "language_info": {
   "name": "python",
   "version": "3.9.10"
  },
  "orig_nbformat": 4
 },
 "nbformat": 4,
 "nbformat_minor": 2
}
