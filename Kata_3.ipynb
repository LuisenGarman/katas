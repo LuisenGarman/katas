{
 "cells": [
  {
   "cell_type": "code",
   "execution_count": 35,
   "metadata": {},
   "outputs": [
    {
     "name": "stdout",
     "output_type": "stream",
     "text": [
      "Warning! Asteroid incoming\n",
      "...\n",
      "Deadly impact\n",
      "Asteroid velocity: 49 km/h\n"
     ]
    }
   ],
   "source": [
    "velocidad=49\n",
    "if velocidad >= 25:\n",
    "    print(\"Warning! Asteroid incoming\")\n",
    "    print(\"...\")\n",
    "    print(\"Deadly impact\")\n",
    "    print(\"Asteroid velocity: \" +str(velocidad) ,\"km/h\")\n",
    "else:\n",
    "    print(\"Warning! Asteroid incoming\")\n",
    "    print(\"...\")\n",
    "    print(\"Minor threat\")\n",
    "    print(\"Asteroid velocity: \" +str(velocidad) ,\"km/h\")"
   ]
  },
  {
   "cell_type": "code",
   "execution_count": 38,
   "metadata": {},
   "outputs": [
    {
     "name": "stdout",
     "output_type": "stream",
     "text": [
      "Message incomming\n",
      "...\n",
      "A trail of light can't be visible from the Earth\n",
      "Good luck next time\n"
     ]
    }
   ],
   "source": [
    "vel=19\n",
    "if vel>=20 and vel<=29:\n",
    "    print(\"Message incomming\")\n",
    "    print(\"...\")\n",
    "    print(\"A trail of light maybe it's visible from the Earth\")\n",
    "    print(\"Look up to the sky, may be you can find it\")\n",
    "elif vel>=30:\n",
    "    print(\"Message incomming\")\n",
    "    print(\"..\")\n",
    "    print(\"A trail of light can be visible from the Earth\")\n",
    "    print(\"Prepare your wishes\")\n",
    "else:\n",
    "    print(\"Message incomming\")\n",
    "    print(\"...\")\n",
    "    print(\"A trail of light can't be visible from the Earth\")\n",
    "    print(\"Good luck next time\")"
   ]
  },
  {
   "cell_type": "code",
   "execution_count": 109,
   "metadata": {},
   "outputs": [
    {
     "name": "stdout",
     "output_type": "stream",
     "text": [
      "There isn't a thing in the sky to see\n",
      "Asteroid data: 14 km/s 12 m\n",
      "Have a nice day\n"
     ]
    }
   ],
   "source": [
    "import random\n",
    "velocity=random.randint(10, 50)\n",
    "size=random.randint(10, 50)\n",
    "if velocity>=25 and size>=25:\n",
    "    print(\"Warning! Asteroid incoming\")\n",
    "    print(\"...\")\n",
    "    print(\"Deadly impact\")\n",
    "    print(\"Asteroid data: \" +str(velocity), \"km/s \" +str(size), \"m\")\n",
    "elif velocity>=25 and size<=24:\n",
    "    print(\"Message incomming\")\n",
    "    print(\"...\")\n",
    "    print(\"Asteroid data: \" +str(velocity), \"km/s \" +str(size), \"m\")\n",
    "    print(\"A trail of light can be visible from the Earth\")\n",
    "    print(\"Prepare your wishes\")\n",
    "elif velocity<=24 and size>=25:\n",
    "    print(\"Warning! Asteroid incoming\")\n",
    "    print(\"...\")\n",
    "    print(\"Impending crash\")\n",
    "    print(\"Asteroid data: \" +str(velocity), \"km/s \" +str(size), \"m\")\n",
    "else:\n",
    "    print(\"There isn't a thing in the sky to see\")\n",
    "    print(\"Asteroid data: \" +str(velocity), \"km/s \" +str(size), \"m\")\n",
    "    print(\"Have a nice day\")"
   ]
  }
 ],
 "metadata": {
  "interpreter": {
   "hash": "71fb62f9abf9f45e7e86724f4c8c4aa75c29525e6b297787f80c42d444dc4b28"
  },
  "kernelspec": {
   "display_name": "Python 3.9.10 64-bit (windows store)",
   "language": "python",
   "name": "python3"
  },
  "language_info": {
   "codemirror_mode": {
    "name": "ipython",
    "version": 3
   },
   "file_extension": ".py",
   "mimetype": "text/x-python",
   "name": "python",
   "nbconvert_exporter": "python",
   "pygments_lexer": "ipython3",
   "version": "3.9.10"
  },
  "orig_nbformat": 4
 },
 "nbformat": 4,
 "nbformat_minor": 2
}
